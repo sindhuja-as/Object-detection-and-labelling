{
 "cells": [
  {
   "cell_type": "code",
   "execution_count": 1,
   "id": "bbcc4abc-b1a3-4f0f-96a7-cbd3688e856d",
   "metadata": {},
   "outputs": [],
   "source": [
    "import cv2\n",
    "import cvlib as cv\n",
    "import numpy as np"
   ]
  },
  {
   "cell_type": "code",
   "execution_count": 4,
   "id": "2fcab9f1-a726-4312-9e33-1ae8e9ace330",
   "metadata": {},
   "outputs": [
    {
     "name": "stdout",
     "output_type": "stream",
     "text": [
      "objects List:\n",
      "['person', 'bicycle', 'car', 'motorbike', 'aeroplane', 'bus', 'train', 'truck', 'boat', 'traffic light', 'fire hydrant', 'stop sign', 'parking meter', 'bench', 'bird', 'cat', 'dog', 'horse', 'sheep', 'cow', 'elephant', 'bear', 'zebra', 'giraffe', 'backpack', 'umbrella', 'handbag', 'tie', 'suitcase', 'frisbee', 'skis', 'snowboard', 'sports ball', 'kite', 'baseball bat', 'baseball glove', 'skateboard', 'surfboard', 'tennis racket', 'bottle', 'wine glass', 'cup', 'fork', 'knife', 'spoon', 'bowl', 'banana', 'apple', 'sandwich', 'orange', 'broccoli', 'carrot', 'hot dog', 'pizza', 'donut', 'cake', 'chair', 'sofa', 'pottedplant', 'bed', 'diningtable', 'toilet', 'tvmonitor', 'laptop', 'mouse', 'remote', 'keyboard', 'cell phone', 'microwave', 'oven', 'toaster', 'sink', 'refrigerator', 'book', 'clock', 'vase', 'scissors', 'teddy bear', 'hair drier', 'toothbrush']\n",
      "181 47\n",
      "We are clicking inside the button\n",
      "Now button person is :  True\n",
      "181 47\n",
      "We are clicking inside the button\n",
      "Now button person is :  False\n"
     ]
    }
   ],
   "source": [
    "net = cv2.dnn.readNet('dnn_model/yolov4-tiny.weights', 'dnn_model/yolov4-tiny.cfg')\n",
    "model = cv2.dnn_DetectionModel(net)\n",
    "model.setInputParams(size = (320,320), scale = 1/255)\n",
    "classes = []\n",
    "with open('dnn_model/classes.txt', 'r' )as file_object:\n",
    "    for class_name in file_object.readlines():\n",
    "        class_name = class_name.strip()\n",
    "        classes.append(class_name)\n",
    "print(\"objects List:\")\n",
    "print(classes)\n",
    "    \n",
    "\n",
    "#Initialise Camera\n",
    "video = cv2.VideoCapture(0)\n",
    "button_person = False\n",
    "\n",
    "def click_button(event, x, y, flags, params):\n",
    "    global button_person\n",
    "    if event == cv2.EVENT_LBUTTONDOWN:\n",
    "        print(x,y)\n",
    "        \n",
    "        polygon = np.array([[(20,20), (220,20), (220,70), (20,70)]])\n",
    "        is_inside = cv2.pointPolygonTest(polygon, (x,y), False)\n",
    "        if is_inside>0:\n",
    "            print(\"We are clicking inside the button\")\n",
    "            if button_person is False:\n",
    "                button_person = True\n",
    "            else:\n",
    "                button_person = False\n",
    "            print(\"Now button person is : \", button_person)\n",
    "\n",
    "\n",
    "\n",
    "cv2.namedWindow(\"Object Detection\")\n",
    "cv2.setMouseCallback(\"Object Detection\", click_button)\n",
    "\n",
    "while True:\n",
    "    ret, frame = video.read()\n",
    "    # if not ret:\n",
    "    #     break\n",
    "    frame = cv2.resize(frame, (600, 800))\n",
    "    (class_ids, score, bboxes) = model.detect(frame)\n",
    "    for class_id, score, bbox in zip(class_ids, score, bboxes):\n",
    "        (x,y,w,h) = bbox\n",
    "        # print(x, y, w, h)\n",
    "        class_name = classes[class_id]\n",
    "        if button_person is True:\n",
    "            cv2.putText(frame, class_name, (x, y-10), cv2.FONT_HERSHEY_PLAIN, 2, (200, 0, 50), 2) \n",
    "            cv2.rectangle(frame, (x,y), (x+w, y+h), (200, 0, 50), 3)\n",
    "    \n",
    "    #Create Button\n",
    "    #cv2.rectangle(frame, (20,20), (220,70), (0,0,200), -1)\n",
    "    polygon = np.array([[(20,20), (220,20), (220,70), (20,70)]])\n",
    "    cv2.fillPoly(frame, polygon, (0,0,200))\n",
    "    cv2.putText(frame, \"Detect\", (30,60), cv2.FONT_HERSHEY_PLAIN, 3, (255,255,255), 3)\n",
    "    cv2.imshow(\"Object Detection\", frame)\n",
    "    if cv2.waitKey(20) & 0xFF== ord('d'):\n",
    "        break\n",
    "\n",
    "   \n",
    "video.release()\n",
    "cv2.destroyAllWindows()        \n"
   ]
  },
  {
   "cell_type": "code",
   "execution_count": null,
   "id": "f71d756e-0f31-4103-a28c-c6636a152403",
   "metadata": {},
   "outputs": [],
   "source": []
  }
 ],
 "metadata": {
  "kernelspec": {
   "display_name": "Python 3 (ipykernel)",
   "language": "python",
   "name": "python3"
  },
  "language_info": {
   "codemirror_mode": {
    "name": "ipython",
    "version": 3
   },
   "file_extension": ".py",
   "mimetype": "text/x-python",
   "name": "python",
   "nbconvert_exporter": "python",
   "pygments_lexer": "ipython3",
   "version": "3.12.6"
  }
 },
 "nbformat": 4,
 "nbformat_minor": 5
}
